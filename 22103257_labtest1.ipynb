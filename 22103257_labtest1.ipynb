{
 "cells": [
  {
   "cell_type": "code",
   "execution_count": 1,
   "id": "df1fe717-aa7c-48d2-baa2-8d6d575b1cfe",
   "metadata": {},
   "outputs": [],
   "source": [
    "import numpy as np\n",
    "import matplotlib.pyplot as plt\n",
    "import scipy"
   ]
  },
  {
   "cell_type": "code",
   "execution_count": 2,
   "id": "1367bb9d-d329-40fc-80d5-ea1d91a7f40f",
   "metadata": {},
   "outputs": [],
   "source": [
    "names = np.array([]) \n",
    "prices = np.array([])\n",
    "quantities = np.array([])  \n",
    "sales = []  \n",
    "profits = [] "
   ]
  },
  {
   "cell_type": "code",
   "execution_count": 3,
   "id": "5db49c72-0ae9-484c-9c2d-4345e9edea02",
   "metadata": {},
   "outputs": [],
   "source": [
    "def add_item():\n",
    "    global names, prices, quantities\n",
    "    name = input(\"Enter medicine name: \")\n",
    "    price = float(input(\"Enter price for: \"))\n",
    "    quantity = int(input(\"Enter quantity for: \"))\n",
    "    names = np.append(names, name)\n",
    "    prices = np.append(prices, price)\n",
    "    quantities = np.append(quantities, quantity)\n",
    "    print(\"Added to inventory\")"
   ]
  },
  {
   "cell_type": "code",
   "execution_count": 4,
   "id": "4307245a-1ada-4076-ab4b-44994622f48c",
   "metadata": {},
   "outputs": [
    {
     "name": "stdin",
     "output_type": "stream",
     "text": [
      "Enter medicine name:  med1\n",
      "Enter price for:  20\n",
      "Enter quantity for:  300\n"
     ]
    },
    {
     "name": "stdout",
     "output_type": "stream",
     "text": [
      "Added to inventory\n"
     ]
    },
    {
     "name": "stdin",
     "output_type": "stream",
     "text": [
      "Enter medicine name:  med2\n",
      "Enter price for:  40\n",
      "Enter quantity for:  400\n"
     ]
    },
    {
     "name": "stdout",
     "output_type": "stream",
     "text": [
      "Added to inventory\n"
     ]
    },
    {
     "name": "stdin",
     "output_type": "stream",
     "text": [
      "Enter medicine name:  med3\n",
      "Enter price for:  120\n",
      "Enter quantity for:  20\n"
     ]
    },
    {
     "name": "stdout",
     "output_type": "stream",
     "text": [
      "Added to inventory\n"
     ]
    }
   ],
   "source": [
    "add_item()\n",
    "add_item()\n",
    "add_item()"
   ]
  },
  {
   "cell_type": "code",
   "execution_count": 5,
   "id": "c664a5fe-ca23-4036-a702-ea091425ba99",
   "metadata": {},
   "outputs": [],
   "source": [
    "def display():\n",
    "    i=0;\n",
    "    n=len(names)\n",
    "    for i in range(0,n):\n",
    "        print(\"Index: \",i+1)\n",
    "        print(\"Name of medicine: \",names[i])\n",
    "        print(\"Price: \",prices[i])\n",
    "        print(\"Quantity: \",quantities[i])\n",
    "        print()"
   ]
  },
  {
   "cell_type": "code",
   "execution_count": 8,
   "id": "7833392b-fb65-4e1c-84e2-0525ccfb53cb",
   "metadata": {},
   "outputs": [
    {
     "ename": "SyntaxError",
     "evalue": "invalid syntax (1862372024.py, line 13)",
     "output_type": "error",
     "traceback": [
      "\u001b[1;36m  Cell \u001b[1;32mIn[8], line 13\u001b[1;36m\u001b[0m\n\u001b[1;33m    print()\u001b[0m\n\u001b[1;37m    ^\u001b[0m\n\u001b[1;31mSyntaxError\u001b[0m\u001b[1;31m:\u001b[0m invalid syntax\n"
     ]
    }
   ],
   "source": [
    "def medsold():\n",
    "    display()\n",
    "    name = input(\"Enter name of medicine being sold: \")\n",
    "    qty = int(input(\"Enter quantity: \"))\n",
    "    idx = int(input(\"Enter the item index to be sold: \"))\n",
    "    if(quantities[idx-1]<qty):\n",
    "        print(\"Not enough stock\")\n",
    "    else:\n",
    "        quantities[idx-1] -= qty;\n",
    "        print(\"Remaining quantities: \",quantities[idx-1])\n",
    "        sales.append(qty)\n",
    "        profits.append(prices[idx-1])\\\n",
    "    print()\n",
    "    print()\n",
    "    "
   ]
  },
  {
   "cell_type": "code",
   "execution_count": 9,
   "id": "cad3d8bf-7bbb-4b79-a83a-06e763fb3cc9",
   "metadata": {},
   "outputs": [
    {
     "name": "stdout",
     "output_type": "stream",
     "text": [
      "Index:  1\n",
      "Name of medicine:  med1\n",
      "Price:  20.0\n",
      "Quantity:  275.0\n",
      "\n",
      "Index:  2\n",
      "Name of medicine:  med2\n",
      "Price:  40.0\n",
      "Quantity:  400.0\n",
      "\n",
      "Index:  3\n",
      "Name of medicine:  med3\n",
      "Price:  120.0\n",
      "Quantity:  20.0\n",
      "\n"
     ]
    },
    {
     "name": "stdin",
     "output_type": "stream",
     "text": [
      "Enter name of medicine being sold:  med1\n",
      "Enter quantity:  20\n",
      "Enter the item index to be sold:  1\n"
     ]
    },
    {
     "name": "stdout",
     "output_type": "stream",
     "text": [
      "Remaining quantities:  255.0\n",
      "Index:  1\n",
      "Name of medicine:  med1\n",
      "Price:  20.0\n",
      "Quantity:  255.0\n",
      "\n",
      "Index:  2\n",
      "Name of medicine:  med2\n",
      "Price:  40.0\n",
      "Quantity:  400.0\n",
      "\n",
      "Index:  3\n",
      "Name of medicine:  med3\n",
      "Price:  120.0\n",
      "Quantity:  20.0\n",
      "\n"
     ]
    },
    {
     "name": "stdin",
     "output_type": "stream",
     "text": [
      "Enter name of medicine being sold:  med2\n",
      "Enter quantity:  4\n",
      "Enter the item index to be sold:  2\n"
     ]
    },
    {
     "name": "stdout",
     "output_type": "stream",
     "text": [
      "Remaining quantities:  396.0\n",
      "Index:  1\n",
      "Name of medicine:  med1\n",
      "Price:  20.0\n",
      "Quantity:  255.0\n",
      "\n",
      "Index:  2\n",
      "Name of medicine:  med2\n",
      "Price:  40.0\n",
      "Quantity:  396.0\n",
      "\n",
      "Index:  3\n",
      "Name of medicine:  med3\n",
      "Price:  120.0\n",
      "Quantity:  20.0\n",
      "\n"
     ]
    },
    {
     "name": "stdin",
     "output_type": "stream",
     "text": [
      "Enter name of medicine being sold:  med1\n",
      "Enter quantity:  21\n",
      "Enter the item index to be sold:  1\n"
     ]
    },
    {
     "name": "stdout",
     "output_type": "stream",
     "text": [
      "Remaining quantities:  234.0\n"
     ]
    }
   ],
   "source": [
    "medsold()\n",
    "medsold()\n",
    "medsold()\n",
    "medsold()\n",
    "medsold()\n",
    "medsold()"
   ]
  },
  {
   "cell_type": "code",
   "execution_count": 10,
   "id": "4f451326-c9be-45a9-835a-074612553dfa",
   "metadata": {},
   "outputs": [
    {
     "name": "stdout",
     "output_type": "stream",
     "text": [
      "Index:  1\n",
      "Name of medicine:  med1\n",
      "Price:  20.0\n",
      "Quantity:  234.0\n",
      "\n",
      "Index:  2\n",
      "Name of medicine:  med2\n",
      "Price:  40.0\n",
      "Quantity:  396.0\n",
      "\n",
      "Index:  3\n",
      "Name of medicine:  med3\n",
      "Price:  120.0\n",
      "Quantity:  20.0\n",
      "\n"
     ]
    }
   ],
   "source": [
    "display()"
   ]
  },
  {
   "cell_type": "code",
   "execution_count": 11,
   "id": "f0539362-802a-4e5f-a920-0ed2384ece7b",
   "metadata": {},
   "outputs": [],
   "source": [
    "def total():\n",
    "    print(\"Total sales: \",np.sum(sales))\n",
    "    print(\"Total profit: \",np.sum(profits)/len(profits))"
   ]
  },
  {
   "cell_type": "code",
   "execution_count": 12,
   "id": "df0251d9-c253-4ac9-849e-a024d2523df2",
   "metadata": {},
   "outputs": [
    {
     "name": "stdout",
     "output_type": "stream",
     "text": [
      "Total sales:  70\n",
      "Total profit:  25.0\n"
     ]
    }
   ],
   "source": [
    "total()"
   ]
  },
  {
   "cell_type": "code",
   "execution_count": 13,
   "id": "d8c8c2e7-8614-4bc9-ba82-27b152799cd2",
   "metadata": {},
   "outputs": [
    {
     "data": {
      "image/png": "[encoded data removed]",
      "text/plain": [
       "<Figure size 640x480 with 1 Axes>"
      ]
     },
     "metadata": {},
     "output_type": "display_data"
    }
   ],
   "source": [
    "plt.scatter(profits,sales)\n",
    "plt.title(\"Sales vs profits\")\n",
    "plt.xlabel(\"Profits\")\n",
    "plt.ylabel(\"Sales\")\n",
    "plt.show()"
   ]
  },
  {
   "cell_type": "code",
   "execution_count": null,
   "id": "be767d8b-cd45-457f-8093-d535541a8658",
   "metadata": {},
   "outputs": [],
   "source": []
  }
 ],
 "metadata": {
  "kernelspec": {
   "display_name": "Python 3 (ipykernel)",
   "language": "python",
   "name": "python3"
  },
  "language_info": {
   "codemirror_mode": {
    "name": "ipython",
    "version": 3
   },
   "file_extension": ".py",
   "mimetype": "text/x-python",
   "name": "python",
   "nbconvert_exporter": "python",
   "pygments_lexer": "ipython3",
   "version": "3.12.4"
  }
 },
 "nbformat": 4,
 "nbformat_minor": 5
}
